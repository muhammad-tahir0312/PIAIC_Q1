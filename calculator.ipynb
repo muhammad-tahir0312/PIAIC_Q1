{
 "cells": [
  {
   "cell_type": "code",
   "execution_count": 1,
   "metadata": {},
   "outputs": [
    {
     "name": "stdout",
     "output_type": "stream",
     "text": [
      "making a damn calculator usin' Python language\n",
      "kindly select the operation u wanna perform\n",
      "1, multiplication\n",
      "2, division\n",
      "3, subtraction\n",
      "4, addition\n",
      "5, modulus\n",
      "ask any operation to perform2\n",
      "enter two numbers\n",
      "enter num169\n",
      "enter num231\n",
      "result 2.225806451612903\n",
      "nikal, pehli fursat main nikal\n"
     ]
    }
   ],
   "source": [
    "#       MAKIN A CALCULATOR USIN PUTHON (JUPYTER, ANACONDA)\n",
    "\n",
    "\n",
    "print(\"making a damn calculator usin' Python language\")\n",
    "\n",
    "print(\"kindly select the operation u wanna perform\")\n",
    "print(\"1, multiplication\")\n",
    "print(\"2, division\")\n",
    "print(\"3, subtraction\")\n",
    "print(\"4, addition\")\n",
    "print(\"5, modulus\")\n",
    "\n",
    "action = int(input(\"ask any operation to perform\"))\n",
    "if action>=1 and action<=5:\n",
    "    \n",
    "    print(\"enter two numbers\")\n",
    "    num1 = int(input(\"enter num1\"))\n",
    "    num2 = int(input(\"enter num2\"))\n",
    "    if action == 1:\n",
    "        \n",
    "        ye_to_hogaa = num1 * num2;\n",
    "        print(\"result\", ye_to_hogaa);\n",
    "    \n",
    "if action == 2:\n",
    "    ye_to_hogaa = num1 / num2;\n",
    "    print(\"result\", ye_to_hogaa);\n",
    "    \n",
    "if action == 3:\n",
    "    ye_to_hogaa = num1 + num2;\n",
    "    print(\"result\", ye_to_hogaa);\n",
    "    \n",
    "if action == 4:\n",
    "    ye_to_hogaa = num1 - num2;\n",
    "    print(\"result\", ye_to_hogaa);\n",
    "    \n",
    "elif action == 5:\n",
    "    ye_to_hogaa = num1 % num2;\n",
    "    print(\"result\", ye_to_hogaa);\n",
    "\n",
    "elif action == 6:\n",
    "    exit();\n",
    "    \n",
    "else:\n",
    "    print(\"nikal, pehli fursat main nikal\")\n",
    "    "
   ]
  }
 ],
 "metadata": {
  "kernelspec": {
   "display_name": "Python 3",
   "language": "python",
   "name": "python3"
  },
  "language_info": {
   "codemirror_mode": {
    "name": "ipython",
    "version": 3
   },
   "file_extension": ".py",
   "mimetype": "text/x-python",
   "name": "python",
   "nbconvert_exporter": "python",
   "pygments_lexer": "ipython3",
   "version": "3.7.6"
  }
 },
 "nbformat": 4,
 "nbformat_minor": 4
}
