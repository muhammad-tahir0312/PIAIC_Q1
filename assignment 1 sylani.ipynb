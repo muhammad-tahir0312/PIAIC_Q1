{
 "cells": [
  {
   "cell_type": "markdown",
   "metadata": {},
   "source": [
    "# Assignment One Started"
   ]
  },
  {
   "cell_type": "code",
   "execution_count": 2,
   "metadata": {},
   "outputs": [
    {
     "name": "stdout",
     "output_type": "stream",
     "text": [
      "Twinkle, Twinkle, little star,\n",
      "     How I Wonder What you are\n",
      "            Up above the world so high,\n",
      "            like a diamond in the sky,\n",
      "Twinkle, Twinkle, little star,\n",
      "     How I wonder what you are\n"
     ]
    }
   ],
   "source": [
    "print(\"Twinkle, twinkle, little star,\")\n",
    "print(\"     How I Wonder what you are\")\n",
    "print(\"            Up above the world so high,\")\n",
    "print(\"            like a diamond in the sky,\")\n",
    "print(\"Twinkle, Twinkle, little star,\")\n",
    "print(\"     How I wonder what you are\")"
   ]
  },
  {
   "cell_type": "code",
   "execution_count": 5,
   "metadata": {},
   "outputs": [
    {
     "name": "stdout",
     "output_type": "stream",
     "text": [
      "3.7.6 (default, Jan  8 2020, 20:23:39) [MSC v.1916 64 bit (AMD64)]\n"
     ]
    }
   ],
   "source": [
    "import sys\n",
    "print(sys.version)\n"
   ]
  },
  {
   "cell_type": "code",
   "execution_count": 10,
   "metadata": {},
   "outputs": [
    {
     "name": "stdout",
     "output_type": "stream",
     "text": [
      "2020-05-06 23:02:09.102802\n"
     ]
    }
   ],
   "source": [
    "import datetime\n",
    "x = datetime.datetime.now()\n",
    "print(x)"
   ]
  },
  {
   "cell_type": "code",
   "execution_count": 14,
   "metadata": {},
   "outputs": [
    {
     "name": "stdout",
     "output_type": "stream",
     "text": [
      "enter the value of r :3.3\n",
      "the value of r is : 3.3 the radius of a circle is : 34.21194399759284\n"
     ]
    }
   ],
   "source": [
    "from math import pi\n",
    "r = float(input(\"enter the value of r :\"))\n",
    "print(\"the value of r is : \" + str(r) + \" the radius of a circle is : \" + str(pi*r**2))"
   ]
  },
  {
   "cell_type": "code",
   "execution_count": 22,
   "metadata": {},
   "outputs": [
    {
     "name": "stdout",
     "output_type": "stream",
     "text": [
      "enter first nametahir\n",
      "enter last namekhan\n",
      "['n', 'a', 'h', 'k', 'r', 'i', 'h', 'a', 't']\n"
     ]
    }
   ],
   "source": [
    "first_name = input(\"enter first name\")\n",
    "last_name = input(\"enter last name\")\n",
    "\n",
    "print(list(reversed(first_name + last_name)))"
   ]
  },
  {
   "cell_type": "code",
   "execution_count": 34,
   "metadata": {},
   "outputs": [
    {
     "name": "stdout",
     "output_type": "stream",
     "text": [
      "enter ur first nameTahir \n",
      "enter ur last nameKhan\n",
      "enter ur father nameNasrumminAllah\n",
      "enter ur mother nameFouzia\n",
      "User's first name is Tahir  and the last name is Khan\n",
      "father name is NasrumminAllah and the mother name is Fouzia\n"
     ]
    }
   ],
   "source": [
    "first_name = input(\"enter ur first name\")\n",
    "last_name = input(\"enter ur last name\")\n",
    "father_name = input(\"enter ur father name\")\n",
    "mother_name = input(\"enter ur mother name\")\n",
    "\n",
    "a = first_name\n",
    "b = last_name\n",
    "c = father_name\n",
    "d = mother_name\n",
    "\n",
    "print(\"User's first name is \" + a + \" and the last name is \" + b)\n",
    "print(\"father name is \" + c + \" and the mother name is \" + d)\n",
    "                    "
   ]
  },
  {
   "cell_type": "markdown",
   "metadata": {},
   "source": [
    "# Assignment One Completed"
   ]
  },
  {
   "cell_type": "code",
   "execution_count": null,
   "metadata": {},
   "outputs": [],
   "source": [
    "# Question 1 \n",
    "\n",
    "total = 0\n",
    "for a in range(5):\n",
    "    subject = input(\"\\n enter ur subject name : \")\n",
    "    marks = int(input(\"enter ur marks = \"))\n",
    "    \n",
    "if marks >= 80:\n",
    "    print(f\"\\n Your grade of {subject} is = A+\")\n",
    "elif marks >= 70 < 80:\n",
    "    print(f\"\\n Your grade of {subject} is = A\")\n",
    "elif marks >= 60 < 70:\n",
    "    print(f\"\\n Your grade of {subject} is = B\")\n",
    "elif marks >= 50 < 60:\n",
    "    print(f\"\\n Your grade of {subject} is = C\")\n",
    "elif marks >= 40 < 50:\n",
    "    print(f\"\\n Your grade of {subject} is = D\")\n",
    "else:\n",
    "    print(f\"\\n Your grade of {subject} is = Fail\")\n",
    "    \n",
    "total = total + marks\n",
    "    \n",
    "percentage = (total//marks)*100\n",
    "\n",
    "if percentage >= 80:\n",
    "    print(\"\\nYour final grade is = A+\")\n",
    "elif percentage >= 70 < 80:\n",
    "    print(\"\\nYour final grade is = A\")\n",
    "elif percentage >= 60 < 70:\n",
    "    print(\"\\nYour final grade is = B\")\n",
    "elif percentage >= 50 < 60:\n",
    "    print(\"\\nYour final grade is = C\")\n",
    "elif percentage >= 40 < 50:\n",
    "    print(\"\\nYour final grade is = D\")\n",
    "else:\n",
    "    print(f\"\\nYour grade of {subject} is = FAIL\")"
   ]
  },
  {
   "cell_type": "code",
   "execution_count": 1,
   "metadata": {},
   "outputs": [
    {
     "name": "stdout",
     "output_type": "stream",
     "text": [
      "enter any number33\n",
      "\n",
      "This is odd number\n"
     ]
    }
   ],
   "source": [
    "# question 2\n",
    "\n",
    "num = float(input(\"enter any number\"))\n",
    "\n",
    "if num % 2 == 0:\n",
    "    print(\"\\nThis is even number\")\n",
    "else:\n",
    "    print(\"\\nThis is odd number\")\n"
   ]
  },
  {
   "cell_type": "code",
   "execution_count": 5,
   "metadata": {},
   "outputs": [
    {
     "data": {
      "text/plain": [
       "6"
      ]
     },
     "execution_count": 5,
     "metadata": {},
     "output_type": "execute_result"
    }
   ],
   "source": [
    "# Question 3\n",
    "\n",
    "alist = [\"khan\",\"tahir\",\"yousufzai\",\"jani\",\"tired\"]\n",
    "alist.append(\"meme\")\n",
    "len(alist)"
   ]
  },
  {
   "cell_type": "code",
   "execution_count": 12,
   "metadata": {},
   "outputs": [
    {
     "name": "stdout",
     "output_type": "stream",
     "text": [
      "41\n"
     ]
    }
   ],
   "source": [
    "# Question 5\n",
    "\n",
    "atupple = [2,4,6,8,10,12,41,16,18,21]\n",
    "\n",
    "print(max(atupple))"
   ]
  },
  {
   "cell_type": "code",
   "execution_count": null,
   "metadata": {},
   "outputs": [],
   "source": [
    "# Question 1 \n",
    "\n",
    "total = 0\n",
    "for a in range(5):\n",
    "    subject = input(\"\\nenter ur subject name : \")\n",
    "    marks = int(input(\"enter ur marks = \"))\n",
    "    \n",
    "    if marks >= 80:\n",
    "        print(f\"\\nYour grade of {subject} is = A+\")\n",
    "    elif marks >= 70 < 80:\n",
    "        print(f\"\\nYour grade of {subject} is = A\")\n",
    "    elif marks >= 60 < 70:\n",
    "        print(f\"\\nYour grade of {subject} is = B\")\n",
    "    elif marks >= 50 < 60:\n",
    "        print(f\"\\nYour grade of {subject} is = C\")\n",
    "    elif marks >= 40 < 50:\n",
    "        print(f\"\\nYour grade of {subject} is = D\")\n",
    "    else:\n",
    "        print(f\"\\nYour grade of {subject} is = Fail\")\n",
    "    total = total + marks\n",
    "    \n",
    "percentage = (total//marks)*100\n",
    "\n",
    "if percentage >= 80:\n",
    "    print(\"\\nYour final grade is = A+\")\n",
    "elif percentage >= 70 < 80:\n",
    "    print(\"\\nYour final grade is = A\")\n",
    "elif percentage >= 60 < 70:\n",
    "    print(\"\\nYour final grade is = B\")\n",
    "elif percentage >= 50 < 60:\n",
    "    print(\"\\nYour final grade is = C\")\n",
    "elif percentage >= 40 < 50:\n",
    "    print(\"\\nYour final grade is = D\")\n",
    "else:\n",
    "    print(f\"\\nYour grade of {subject} is = FAIL\")\n",
    "    "
   ]
  },
  {
   "cell_type": "code",
   "execution_count": null,
   "metadata": {},
   "outputs": [],
   "source": []
  }
 ],
 "metadata": {
  "kernelspec": {
   "display_name": "Python 3",
   "language": "python",
   "name": "python3"
  },
  "language_info": {
   "codemirror_mode": {
    "name": "ipython",
    "version": 3
   },
   "file_extension": ".py",
   "mimetype": "text/x-python",
   "name": "python",
   "nbconvert_exporter": "python",
   "pygments_lexer": "ipython3",
   "version": "3.7.6"
  }
 },
 "nbformat": 4,
 "nbformat_minor": 4
}
