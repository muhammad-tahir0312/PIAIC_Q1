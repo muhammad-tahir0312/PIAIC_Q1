{
 "cells": [
  {
   "cell_type": "markdown",
   "metadata": {},
   "source": [
    "# python 2 started\n",
    "# loop"
   ]
  },
  {
   "cell_type": "code",
   "execution_count": 2,
   "metadata": {},
   "outputs": [
    {
     "name": "stdout",
     "output_type": "stream",
     "text": [
      "tahir khan\n",
      "tahir khan\n",
      "tahir khan\n",
      "tahir khan\n",
      "tahir khan\n"
     ]
    }
   ],
   "source": [
    "print(\"tahir khan\")\n",
    "print(\"tahir khan\")\n",
    "print(\"tahir khan\")\n",
    "print(\"tahir khan\")\n",
    "print(\"tahir khan\")"
   ]
  },
  {
   "cell_type": "code",
   "execution_count": 3,
   "metadata": {},
   "outputs": [
    {
     "name": "stdout",
     "output_type": "stream",
     "text": [
      "0 tahir khan\n",
      "1 tahir khan\n",
      "2 tahir khan\n",
      "3 tahir khan\n",
      "4 tahir khan\n",
      "5 tahir khan\n",
      "6 tahir khan\n",
      "7 tahir khan\n",
      "8 tahir khan\n",
      "9 tahir khan\n"
     ]
    }
   ],
   "source": [
    "for a in range(10):\n",
    "    print(a,\"tahir khan\")"
   ]
  },
  {
   "cell_type": "code",
   "execution_count": 4,
   "metadata": {},
   "outputs": [
    {
     "name": "stdout",
     "output_type": "stream",
     "text": [
      "0\n",
      "1\n",
      "2\n",
      "3\n",
      "4\n",
      "5\n",
      "6\n",
      "7\n",
      "8\n",
      "9\n",
      "10\n",
      "11\n",
      "12\n",
      "13\n",
      "14\n",
      "15\n",
      "16\n",
      "17\n"
     ]
    }
   ],
   "source": [
    "for num in range(18):\n",
    "    print(num)"
   ]
  },
  {
   "cell_type": "code",
   "execution_count": 5,
   "metadata": {},
   "outputs": [
    {
     "data": {
      "text/plain": [
       "('tahir', 'khan', 'jani')"
      ]
     },
     "execution_count": 5,
     "metadata": {},
     "output_type": "execute_result"
    }
   ],
   "source": [
    "names = \"tahir\",\"khan\",\"jani\"\n",
    "names"
   ]
  },
  {
   "cell_type": "code",
   "execution_count": 6,
   "metadata": {},
   "outputs": [
    {
     "name": "stdout",
     "output_type": "stream",
     "text": [
      "this name is wrong tahir\n",
      "this name is correct tahir\n",
      "this name is wrong khan\n",
      "this name is correct khan\n",
      "this name is wrong jani\n",
      "this name is correct jani\n"
     ]
    }
   ],
   "source": [
    "for name in names:\n",
    "    print(f\"this name is wrong {name}\")\n",
    "    print(f\"this name is correct {name}\")"
   ]
  },
  {
   "cell_type": "code",
   "execution_count": 7,
   "metadata": {},
   "outputs": [
    {
     "name": "stdout",
     "output_type": "stream",
     "text": [
      "11\n",
      "22\n",
      "33\n",
      "44\n",
      "55\n",
      "66\n",
      "77\n",
      "88\n",
      "99\n"
     ]
    }
   ],
   "source": [
    "numbers = [11,22,33,44,55,66,77,88,99]\n",
    "\n",
    "for number in numbers:\n",
    "    print(number)\n"
   ]
  },
  {
   "cell_type": "code",
   "execution_count": 36,
   "metadata": {},
   "outputs": [
    {
     "data": {
      "text/plain": [
       "'pakistan'"
      ]
     },
     "execution_count": 36,
     "metadata": {},
     "output_type": "execute_result"
    }
   ],
   "source": [
    "country = \"pakistan\"\n",
    "country"
   ]
  },
  {
   "cell_type": "code",
   "execution_count": 40,
   "metadata": {},
   "outputs": [
    {
     "name": "stdout",
     "output_type": "stream",
     "text": [
      "p pakistan\n",
      "a pakistan\n",
      "k pakistan\n",
      "i pakistan\n",
      "s pakistan\n",
      "t pakistan\n",
      "a pakistan\n",
      "n pakistan\n"
     ]
    }
   ],
   "source": [
    "for a in country:\n",
    "    print(a, country)"
   ]
  },
  {
   "cell_type": "code",
   "execution_count": 10,
   "metadata": {},
   "outputs": [
    {
     "data": {
      "text/plain": [
       "('pakistan', 'america')"
      ]
     },
     "execution_count": 10,
     "metadata": {},
     "output_type": "execute_result"
    }
   ],
   "source": [
    "country = \"pakistan\",\"america\"\n",
    "country"
   ]
  },
  {
   "cell_type": "code",
   "execution_count": 11,
   "metadata": {},
   "outputs": [
    {
     "name": "stdout",
     "output_type": "stream",
     "text": [
      "pakistan\n",
      "america\n"
     ]
    }
   ],
   "source": [
    "for country in country:\n",
    "    print(country)"
   ]
  },
  {
   "cell_type": "markdown",
   "metadata": {},
   "source": [
    "# loops break and continue"
   ]
  },
  {
   "cell_type": "code",
   "execution_count": 12,
   "metadata": {},
   "outputs": [
    {
     "data": {
      "text/plain": [
       "[11, 22, 33, 44, 55]"
      ]
     },
     "execution_count": 12,
     "metadata": {},
     "output_type": "execute_result"
    }
   ],
   "source": [
    "number = [11,22,33,44,55]\n",
    "number"
   ]
  },
  {
   "cell_type": "code",
   "execution_count": 13,
   "metadata": {},
   "outputs": [
    {
     "name": "stdout",
     "output_type": "stream",
     "text": [
      "11\n"
     ]
    }
   ],
   "source": [
    "for num in number:\n",
    "    if num%3==1:\n",
    "        break\n",
    "    print(num)"
   ]
  },
  {
   "cell_type": "code",
   "execution_count": 14,
   "metadata": {},
   "outputs": [
    {
     "name": "stdout",
     "output_type": "stream",
     "text": [
      "1\n",
      "2\n"
     ]
    }
   ],
   "source": [
    "tahir = 1,2,3,4,5,6,7,8,9,\n",
    "\n",
    "for khan in tahir:\n",
    "    if khan/3==1:\n",
    "        break\n",
    "    print(khan)"
   ]
  },
  {
   "cell_type": "code",
   "execution_count": 1,
   "metadata": {},
   "outputs": [
    {
     "name": "stdout",
     "output_type": "stream",
     "text": [
      "5\n",
      "6\n",
      "7\n",
      "8\n",
      "9\n",
      "10\n",
      "11\n",
      "12\n",
      "14\n",
      "15\n",
      "16\n",
      "17\n",
      "18\n",
      "19\n",
      "20\n",
      "21\n",
      "22\n",
      "23\n",
      "24\n",
      "25\n",
      "26\n",
      "27\n",
      "28\n",
      "29\n",
      "30\n",
      "31\n",
      "32\n"
     ]
    }
   ],
   "source": [
    "for num in range(5,33):\n",
    "    if num == 13:\n",
    "        continue\n",
    "    print(num)"
   ]
  },
  {
   "cell_type": "code",
   "execution_count": null,
   "metadata": {},
   "outputs": [],
   "source": []
  },
  {
   "cell_type": "code",
   "execution_count": null,
   "metadata": {},
   "outputs": [],
   "source": [
    "names = [\"tahir1\",\"tahir2\",\"tahir3\",\"tahir4\",\"tahir5\"]\n",
    "print(names)"
   ]
  },
  {
   "cell_type": "code",
   "execution_count": 16,
   "metadata": {},
   "outputs": [
    {
     "name": "stdout",
     "output_type": "stream",
     "text": [
      "tahir\n",
      "khan\n",
      "jani\n"
     ]
    }
   ],
   "source": [
    "for name in names:\n",
    "    if name == \"tahir3\":\n",
    "        continue\n",
    "    print(name)"
   ]
  },
  {
   "cell_type": "markdown",
   "metadata": {},
   "source": [
    "# nasted for loop"
   ]
  },
  {
   "cell_type": "code",
   "execution_count": 17,
   "metadata": {},
   "outputs": [
    {
     "name": "stdout",
     "output_type": "stream",
     "text": [
      "nikal bc\n",
      "5 jani\n",
      "5 khani\n",
      "nikal bc\n",
      "6 jani\n",
      "6 khani\n"
     ]
    }
   ],
   "source": [
    "for a in range(5,7):\n",
    "    print(\"nikal bc\")\n",
    "    for char in \"jani\",\"khani\":\n",
    "        print(a,char)"
   ]
  },
  {
   "cell_type": "code",
   "execution_count": 18,
   "metadata": {},
   "outputs": [
    {
     "data": {
      "text/plain": [
       "('khani', 'jani', 'kahani', 'pani')"
      ]
     },
     "execution_count": 18,
     "metadata": {},
     "output_type": "execute_result"
    }
   ],
   "source": [
    "names = (\"khani\",\"jani\",\"kahani\",\"pani\")\n",
    "names"
   ]
  },
  {
   "cell_type": "code",
   "execution_count": 19,
   "metadata": {},
   "outputs": [
    {
     "name": "stdout",
     "output_type": "stream",
     "text": [
      "names under consideration\n",
      "khani\n",
      "khani\n",
      "khani\n",
      "khani\n",
      "names under consideration\n",
      "jani\n",
      "jani\n",
      "jani\n",
      "jani\n",
      "names under consideration\n",
      "kahani\n",
      "kahani\n",
      "kahani\n",
      "kahani\n",
      "names under consideration\n",
      "pani\n",
      "pani\n",
      "pani\n",
      "pani\n"
     ]
    }
   ],
   "source": [
    "for name in names:\n",
    "    print(\"names under consideration\")\n",
    "    for char in names:\n",
    "        print(name)"
   ]
  },
  {
   "cell_type": "code",
   "execution_count": 2,
   "metadata": {},
   "outputs": [
    {
     "name": "stdout",
     "output_type": "stream",
     "text": [
      "insert table number2\n",
      "2 * 1 = 2\n",
      "2 * 2 = 4\n",
      "2 * 3 = 6\n",
      "2 * 4 = 8\n"
     ]
    }
   ],
   "source": [
    "tables = int(input(\"insert table number\"))\n",
    "\n",
    "for a in range(1,5):\n",
    "    print(f\"{tables} * {a} = {tables*a}\")"
   ]
  },
  {
   "cell_type": "code",
   "execution_count": 2,
   "metadata": {},
   "outputs": [
    {
     "name": "stdout",
     "output_type": "stream",
     "text": [
      "ask any table5\n",
      "5 * 1 = 5\n",
      "5 * 2 = 10\n",
      "5 * 3 = 15\n",
      "5 * 4 = 20\n",
      "5 * 5 = 25\n",
      "5 * 6 = 30\n",
      "5 * 7 = 35\n",
      "5 * 8 = 40\n",
      "5 * 9 = 45\n",
      "5 * 10 = 50\n"
     ]
    }
   ],
   "source": [
    "tables = int(input(\"ask any table\"))\n",
    "for num in range(1,11):\n",
    "    print(f\"{tables} * {num} = {tables*num}\")\n"
   ]
  },
  {
   "cell_type": "code",
   "execution_count": 4,
   "metadata": {},
   "outputs": [
    {
     "name": "stdout",
     "output_type": "stream",
     "text": [
      "['tahir', 'khan', 'jani', 'wtf']\n"
     ]
    }
   ],
   "source": [
    "list = [\"tahir\",\"khan\",\"jani\",\"wtf\"]\n",
    "print(list)"
   ]
  },
  {
   "cell_type": "code",
   "execution_count": 6,
   "metadata": {},
   "outputs": [
    {
     "name": "stdout",
     "output_type": "stream",
     "text": [
      "insert table number2\n",
      "2 * 1 = 2\n",
      "2 * 2 = 4\n",
      "2 * 3 = 6\n",
      "2 * 4 = 8\n",
      "2 * 5 = 10\n",
      "2 * 6 = 12\n",
      "2 * 7 = 14\n",
      "2 * 8 = 16\n",
      "2 * 9 = 18\n",
      "2 * 10 = 20\n"
     ]
    }
   ],
   "source": [
    "tables = int(input(\"insert table number\"))\n",
    "\n",
    "for table in range(2,tables+1):\n",
    "    for num in range(1,11):\n",
    "        print(f\"{table} * {num} = {table*num}\")"
   ]
  },
  {
   "cell_type": "code",
   "execution_count": 7,
   "metadata": {},
   "outputs": [
    {
     "name": "stdout",
     "output_type": "stream",
     "text": [
      "tables2\n",
      "1 * 0 = 0\n",
      "1 * 1 = 1\n",
      "1 * 2 = 2\n",
      "1 * 3 = 3\n",
      "1 * 4 = 4\n",
      "1 * 5 = 5\n",
      "1 * 6 = 6\n",
      "1 * 7 = 7\n",
      "1 * 8 = 8\n",
      "1 * 9 = 9\n",
      "1 * 10 = 10\n",
      "2 * 0 = 0\n",
      "2 * 1 = 2\n",
      "2 * 2 = 4\n",
      "2 * 3 = 6\n",
      "2 * 4 = 8\n",
      "2 * 5 = 10\n",
      "2 * 6 = 12\n",
      "2 * 7 = 14\n",
      "2 * 8 = 16\n",
      "2 * 9 = 18\n",
      "2 * 10 = 20\n"
     ]
    }
   ],
   "source": [
    "tables = int(input(\"tables\"))\n",
    "\n",
    "for table in range(1,tables+1):\n",
    "    for number in range(11):\n",
    "        print(f\"{table} * {number} = {table*number}\")"
   ]
  },
  {
   "cell_type": "code",
   "execution_count": 8,
   "metadata": {},
   "outputs": [
    {
     "name": "stdout",
     "output_type": "stream",
     "text": [
      "insert table no3\n",
      "2 * 2 = 4\n",
      "2 * 3 = 6\n",
      "2 * 4 = 8\n",
      "2 * 5 = 10\n",
      "2 * 6 = 12\n",
      "2 * 7 = 14\n",
      "2 * 8 = 16\n",
      "2 * 9 = 18\n",
      "2 * 10 = 20\n",
      "3 * 2 = 6\n",
      "3 * 3 = 9\n",
      "3 * 4 = 12\n",
      "3 * 5 = 15\n",
      "3 * 6 = 18\n",
      "3 * 7 = 21\n",
      "3 * 8 = 24\n",
      "3 * 9 = 27\n",
      "3 * 10 = 30\n"
     ]
    }
   ],
   "source": [
    "tables = int(input(\"insert table no\"))\n",
    "\n",
    "for table in range(2,tables+1):\n",
    "    for num in range(2,11):\n",
    "        print(f\"{table} * {num} = {table*num}\")"
   ]
  },
  {
   "cell_type": "code",
   "execution_count": 9,
   "metadata": {},
   "outputs": [
    {
     "name": "stdout",
     "output_type": "stream",
     "text": [
      "ask anything3\n"
     ]
    },
    {
     "data": {
      "text/plain": [
       "str"
      ]
     },
     "execution_count": 9,
     "metadata": {},
     "output_type": "execute_result"
    }
   ],
   "source": [
    "user= input(\"ask anything\")\n",
    "type(user)"
   ]
  },
  {
   "cell_type": "code",
   "execution_count": 18,
   "metadata": {},
   "outputs": [
    {
     "name": "stdout",
     "output_type": "stream",
     "text": [
      "ask anything4\n"
     ]
    },
    {
     "data": {
      "text/plain": [
       "float"
      ]
     },
     "execution_count": 18,
     "metadata": {},
     "output_type": "execute_result"
    }
   ],
   "source": [
    "user= float(input(\"ask anything\"))\n",
    "type(user)"
   ]
  },
  {
   "cell_type": "code",
   "execution_count": 20,
   "metadata": {},
   "outputs": [
    {
     "name": "stdout",
     "output_type": "stream",
     "text": [
      "ask anythingtahir\n"
     ]
    },
    {
     "data": {
      "text/plain": [
       "str"
      ]
     },
     "execution_count": 20,
     "metadata": {},
     "output_type": "execute_result"
    }
   ],
   "source": [
    "user= str(input(\"ask anything\"))\n",
    "type(user)"
   ]
  },
  {
   "cell_type": "markdown",
   "metadata": {},
   "source": [
    "# changing case"
   ]
  },
  {
   "cell_type": "code",
   "execution_count": 36,
   "metadata": {},
   "outputs": [
    {
     "data": {
      "text/plain": [
       "str"
      ]
     },
     "execution_count": 36,
     "metadata": {},
     "output_type": "execute_result"
    }
   ],
   "source": [
    "name = \"tahir\"\n",
    "type(name)"
   ]
  },
  {
   "cell_type": "code",
   "execution_count": 37,
   "metadata": {},
   "outputs": [
    {
     "data": {
      "text/plain": [
       "'TAHIR'"
      ]
     },
     "execution_count": 37,
     "metadata": {},
     "output_type": "execute_result"
    }
   ],
   "source": [
    "name.upper()"
   ]
  },
  {
   "cell_type": "code",
   "execution_count": 38,
   "metadata": {},
   "outputs": [
    {
     "data": {
      "text/plain": [
       "'tahir'"
      ]
     },
     "execution_count": 38,
     "metadata": {},
     "output_type": "execute_result"
    }
   ],
   "source": [
    "name.lower()"
   ]
  },
  {
   "cell_type": "code",
   "execution_count": 40,
   "metadata": {},
   "outputs": [
    {
     "data": {
      "text/plain": [
       "'Tahir'"
      ]
     },
     "execution_count": 40,
     "metadata": {},
     "output_type": "execute_result"
    }
   ],
   "source": [
    "name.title()"
   ]
  },
  {
   "cell_type": "markdown",
   "metadata": {},
   "source": [
    "# dictionary"
   ]
  },
  {
   "cell_type": "code",
   "execution_count": 52,
   "metadata": {},
   "outputs": [
    {
     "data": {
      "text/plain": [
       "2"
      ]
     },
     "execution_count": 52,
     "metadata": {},
     "output_type": "execute_result"
    }
   ],
   "source": [
    "mydictionary = {\"key\":\"TAHIR\",\"key2\":32}\n",
    "len(mydictionary)"
   ]
  },
  {
   "cell_type": "markdown",
   "metadata": {},
   "source": [
    "# adding new element"
   ]
  },
  {
   "cell_type": "code",
   "execution_count": 53,
   "metadata": {},
   "outputs": [
    {
     "name": "stdout",
     "output_type": "stream",
     "text": [
      "{'key': 'TAHIR', 'key2': 32, 'key3': 'nasrumminallah'}\n"
     ]
    }
   ],
   "source": [
    "mydictionary[\"key3\"]=\"nasrumminallah\"\n",
    "print(mydictionary)"
   ]
  },
  {
   "cell_type": "markdown",
   "metadata": {},
   "source": [
    "\n",
    "# accessing element from dictionary"
   ]
  },
  {
   "cell_type": "code",
   "execution_count": 50,
   "metadata": {},
   "outputs": [
    {
     "data": {
      "text/plain": [
       "'nasrumminallah'"
      ]
     },
     "execution_count": 50,
     "metadata": {},
     "output_type": "execute_result"
    }
   ],
   "source": [
    "mydictionary[\"key3\"]"
   ]
  },
  {
   "cell_type": "code",
   "execution_count": 58,
   "metadata": {},
   "outputs": [
    {
     "name": "stdout",
     "output_type": "stream",
     "text": [
      "{'key': 'TAHIR', 'key3': 'nasrumminallah'}\n"
     ]
    }
   ],
   "source": [
    "mydictionary[\"key3\"]=\"nasrumminallah\"\n",
    "print(mydictionary)"
   ]
  },
  {
   "cell_type": "code",
   "execution_count": 60,
   "metadata": {},
   "outputs": [
    {
     "ename": "KeyError",
     "evalue": "'key2'",
     "output_type": "error",
     "traceback": [
      "\u001b[1;31m---------------------------------------------------------------------------\u001b[0m",
      "\u001b[1;31mKeyError\u001b[0m                                  Traceback (most recent call last)",
      "\u001b[1;32m<ipython-input-60-2c8601464997>\u001b[0m in \u001b[0;36m<module>\u001b[1;34m\u001b[0m\n\u001b[1;32m----> 1\u001b[1;33m \u001b[1;32mdel\u001b[0m \u001b[0mmydictionary\u001b[0m\u001b[1;33m[\u001b[0m\u001b[1;34m\"key2\"\u001b[0m\u001b[1;33m]\u001b[0m\u001b[1;33m\u001b[0m\u001b[1;33m\u001b[0m\u001b[0m\n\u001b[0m",
      "\u001b[1;31mKeyError\u001b[0m: 'key2'"
     ]
    }
   ],
   "source": [
    "del mydictionary[\"key2\"]"
   ]
  },
  {
   "cell_type": "code",
   "execution_count": 61,
   "metadata": {},
   "outputs": [
    {
     "data": {
      "text/plain": [
       "2"
      ]
     },
     "execution_count": 61,
     "metadata": {},
     "output_type": "execute_result"
    }
   ],
   "source": [
    "len(mydictionary)"
   ]
  },
  {
   "cell_type": "code",
   "execution_count": 1,
   "metadata": {},
   "outputs": [],
   "source": [
    "MyDict = {\"key\":\"value\",\"key1\":\"value1\",\"key2\":\"value2\",\"key3\":\"value3\",\"key4\":\"value4\",\"key5\":\"value5\",\"key6\":\"value6\"}"
   ]
  },
  {
   "cell_type": "code",
   "execution_count": 2,
   "metadata": {},
   "outputs": [
    {
     "data": {
      "text/plain": [
       "7"
      ]
     },
     "execution_count": 2,
     "metadata": {},
     "output_type": "execute_result"
    }
   ],
   "source": [
    "len(MyDict)"
   ]
  },
  {
   "cell_type": "code",
   "execution_count": 4,
   "metadata": {},
   "outputs": [
    {
     "data": {
      "text/plain": [
       "{'key': 'value',\n",
       " 'key1': 'value1',\n",
       " 'key2': 'value2',\n",
       " 'key3': 'value3',\n",
       " 'key4': 'value4',\n",
       " 'key5': 'value5',\n",
       " 'key6': 'value6',\n",
       " 'key7': 'value7'}"
      ]
     },
     "execution_count": 4,
     "metadata": {},
     "output_type": "execute_result"
    }
   ],
   "source": [
    "MyDict[\"key7\"]=\"value7\"\n",
    "MyDict"
   ]
  },
  {
   "cell_type": "code",
   "execution_count": 16,
   "metadata": {},
   "outputs": [
    {
     "data": {
      "text/plain": [
       "{'key': 'value',\n",
       " 'key1': 'value1',\n",
       " 'key4': 'value4',\n",
       " 'key5': 'value5',\n",
       " 'key6': 'value6',\n",
       " 'key7': 'value7'}"
      ]
     },
     "execution_count": 16,
     "metadata": {},
     "output_type": "execute_result"
    }
   ],
   "source": [
    "del MyDict[\"key2\"]\n",
    "MyDict"
   ]
  },
  {
   "cell_type": "code",
   "execution_count": 18,
   "metadata": {},
   "outputs": [
    {
     "data": {
      "text/plain": [
       "{'key': 'value0',\n",
       " 'key1': 'value1',\n",
       " 'key4': 'value4',\n",
       " 'key5': 'value5',\n",
       " 'key6': 'value6',\n",
       " 'key7': 'value7'}"
      ]
     },
     "execution_count": 18,
     "metadata": {},
     "output_type": "execute_result"
    }
   ],
   "source": [
    "MyDict[\"key\"]=\"value0\"\n",
    "MyDict"
   ]
  },
  {
   "cell_type": "code",
   "execution_count": 24,
   "metadata": {},
   "outputs": [
    {
     "data": {
      "text/plain": [
       "{'key': 'value0',\n",
       " 'key1': 'value1',\n",
       " 'key4': 'value4',\n",
       " 'key5': 'value5',\n",
       " 'key6': 'value6',\n",
       " 'key7': 'value7'}"
      ]
     },
     "execution_count": 24,
     "metadata": {},
     "output_type": "execute_result"
    }
   ],
   "source": [
    "MyDict"
   ]
  },
  {
   "cell_type": "markdown",
   "metadata": {},
   "source": [
    "# accessing elemnt frm list in dictionary"
   ]
  },
  {
   "cell_type": "code",
   "execution_count": 40,
   "metadata": {},
   "outputs": [
    {
     "name": "stdout",
     "output_type": "stream",
     "text": [
      "{'students': ['khan', 'qasim', 'talha', 'saad', 'adil'], 'fathers': ['qasim', 'yousufzai', 'khan', 'jamal', 'zaman']}\n"
     ]
    }
   ],
   "source": [
    "alist= [\"khan\",\"qasim\",\"talha\",\"saad\",\"adil\"]\n",
    "blist= [\"qasim\",\"yousufzai\",\"khan\",\"jamal\",\"zaman\"]\n",
    "\n",
    "Mydict1 = {\"students\": alist , \"fathers\" : blist}\n",
    "\n",
    "print(Mydict1)"
   ]
  },
  {
   "cell_type": "code",
   "execution_count": 43,
   "metadata": {},
   "outputs": [
    {
     "data": {
      "text/plain": [
       "'khan qasim'"
      ]
     },
     "execution_count": 43,
     "metadata": {},
     "output_type": "execute_result"
    }
   ],
   "source": [
    "Mydict1[\"students\"][0] +\" \"+ Mydict1[\"fathers\"][0]"
   ]
  },
  {
   "cell_type": "markdown",
   "metadata": {},
   "source": [
    "# accessing elemnt frm dictionary in dictionary"
   ]
  },
  {
   "cell_type": "code",
   "execution_count": 53,
   "metadata": {},
   "outputs": [],
   "source": [
    "Mydict0 = {\"key0\":\"value0\",\"key1\":\"value1\"}\n",
    "Mydict2 = {\"key3\":\"value3\",\"key4\":\"value4\"}\n",
    "\n",
    "Dict = {\"dict1\": Mydict0,\"dict2\": Mydict2}"
   ]
  },
  {
   "cell_type": "code",
   "execution_count": 58,
   "metadata": {},
   "outputs": [
    {
     "data": {
      "text/plain": [
       "'value1  value4'"
      ]
     },
     "execution_count": 58,
     "metadata": {},
     "output_type": "execute_result"
    }
   ],
   "source": [
    "Dict[\"dict1\"][\"key1\"] +\"  \"+ Dict[\"dict2\"][\"key4\"]"
   ]
  },
  {
   "cell_type": "code",
   "execution_count": 67,
   "metadata": {},
   "outputs": [
    {
     "data": {
      "text/plain": [
       "{'students': ['khan', 'qasim', 'talha', 'saad', 'adil'],\n",
       " 'fathers': ['qasim', 'yousufzai', 'khan', 'jamal', 'zaman']}"
      ]
     },
     "execution_count": 67,
     "metadata": {},
     "output_type": "execute_result"
    }
   ],
   "source": [
    "Mydict1"
   ]
  },
  {
   "cell_type": "code",
   "execution_count": 90,
   "metadata": {},
   "outputs": [
    {
     "name": "stdout",
     "output_type": "stream",
     "text": [
      "students\n",
      "fathers\n"
     ]
    }
   ],
   "source": [
    "for key in Mydict1.keys():\n",
    "    print(key)"
   ]
  },
  {
   "cell_type": "code",
   "execution_count": 77,
   "metadata": {},
   "outputs": [
    {
     "name": "stdout",
     "output_type": "stream",
     "text": [
      "['khan', 'qasim', 'talha', 'saad', 'adil']\n",
      "['qasim', 'yousufzai', 'khan', 'jamal', 'zaman']\n"
     ]
    }
   ],
   "source": [
    "for values in Mydict1.values():\n",
    "    print(values)"
   ]
  },
  {
   "cell_type": "code",
   "execution_count": 70,
   "metadata": {},
   "outputs": [
    {
     "name": "stdout",
     "output_type": "stream",
     "text": [
      "dict_keys(['students', 'fathers'])\n",
      "dict_values([['khan', 'qasim', 'talha', 'saad', 'adil'], ['qasim', 'yousufzai', 'khan', 'jamal', 'zaman']])\n"
     ]
    }
   ],
   "source": [
    "Mydict1\n",
    "\n",
    "for a in Mydict1.keys() , Mydict1.values():\n",
    "    print(a)"
   ]
  },
  {
   "cell_type": "code",
   "execution_count": 94,
   "metadata": {},
   "outputs": [],
   "source": [
    "Mydict3 = {\"name\":\"tahir\",\"name1\":\"khan\",\"name2\":\"yousufzai\"}\n",
    "Mydict"
   ]
  },
  {
   "cell_type": "code",
   "execution_count": 98,
   "metadata": {},
   "outputs": [
    {
     "name": "stdout",
     "output_type": "stream",
     "text": [
      "the student name is tahir\n",
      "the student name1 is khan\n",
      "the student name2 is yousufzai\n"
     ]
    }
   ],
   "source": [
    "for a , b in Mydict3.items():\n",
    "    print(\"the student \" + a + \" is \" + b)"
   ]
  },
  {
   "cell_type": "markdown",
   "metadata": {},
   "source": [
    "# python 2 finished"
   ]
  },
  {
   "cell_type": "code",
   "execution_count": 1,
   "metadata": {},
   "outputs": [
    {
     "name": "stdout",
     "output_type": "stream",
     "text": [
      "\n",
      " enter ur subject name : maths\n",
      "enter ur marks = 99\n",
      "\n",
      " Your grade of maths is = A+\n",
      "\n",
      " enter ur subject name : urdu\n",
      "enter ur marks = 40\n",
      "\n",
      " Your grade of urdu is = D\n",
      "\n",
      " enter ur subject name : eng\n",
      "enter ur marks = 20\n",
      "\n",
      " Your grade of eng is = Fail\n",
      "\n",
      " enter ur subject name : comp\n",
      "enter ur marks = 67\n",
      "\n",
      " Your grade of comp is = B\n",
      "\n",
      " enter ur subject name : stats\n",
      "enter ur marks = 45\n",
      "\n",
      " Your grade of stats is = D\n",
      "\n",
      " Your final grade is = A+\n"
     ]
    }
   ],
   "source": [
    "total = 0\n",
    "\n",
    "for a in range(5):\n",
    "    subject = input(\"\\n enter ur subject name : \")\n",
    "    marks = int(input(\"enter ur marks = \"))\n",
    "    \n",
    "    if marks >= 80:\n",
    "        print(f\"\\n Your grade of {subject} is = A+\")\n",
    "    elif marks >= 70 < 80:\n",
    "        print(f\"\\n Your grade of {subject} is = A\")\n",
    "    elif marks >= 60 < 70:\n",
    "        print(f\"\\n Your grade of {subject} is = B\")\n",
    "    elif marks >= 50 < 60:\n",
    "        print(f\"\\n Your grade of {subject} is = C\")\n",
    "    elif marks >= 40 < 50:\n",
    "        print(f\"\\n Your grade of {subject} is = D\")\n",
    "    else:\n",
    "        print(f\"\\n Your grade of {subject} is = Fail\")\n",
    "    \n",
    "total = total + marks\n",
    "    \n",
    "percentage = (total//marks)*100\n",
    "\n",
    "if percentage >= 80:\n",
    "    print(\"\\n Your final grade is = A+\")\n",
    "elif percentage >= 70 < 80:\n",
    "    print(\"\\n Your final grade is = A\")\n",
    "elif percentage >= 60 < 70:\n",
    "    print(\"\\n Your final grade is = B\")\n",
    "elif percentage >= 50 < 60:\n",
    "    print(\"\\n Your final grade is = C\")\n",
    "elif percentage >= 40 < 50:\n",
    "    print(\"\\n Your final grade is = D\")\n",
    "else:\n",
    "    print(f\"\\n Your grade of {subject} is = FAIL\")"
   ]
  },
  {
   "cell_type": "code",
   "execution_count": null,
   "metadata": {},
   "outputs": [],
   "source": [
    "i = int(input(\"enter any numbber\"))\n",
    "\n",
    "for e in range(i+1):\n",
    "    for j in range(1,11):\n",
    "        print(f\"{i} * {j} = {i*j}\")"
   ]
  },
  {
   "cell_type": "code",
   "execution_count": 1,
   "metadata": {},
   "outputs": [
    {
     "name": "stdout",
     "output_type": "stream",
     "text": [
      "hi\n",
      "bye\n"
     ]
    }
   ],
   "source": [
    "try:\n",
    "    5//0\n",
    "except:\n",
    "    print(\"hi\")\n",
    "else:\n",
    "    print(\"hello\")\n",
    "finally:\n",
    "    print(\"bye\")"
   ]
  },
  {
   "cell_type": "code",
   "execution_count": 25,
   "metadata": {},
   "outputs": [
    {
     "name": "stdout",
     "output_type": "stream",
     "text": [
      "none\n",
      "ye to hogaa!!\n"
     ]
    }
   ],
   "source": [
    "try:\n",
    "    a = 4/0\n",
    "    if a == 2:\n",
    "        print(\"yooor\")\n",
    "except:\n",
    "    print(\"none\")\n",
    "else:\n",
    "    print(\"this is else blog\")\n",
    "finally:\n",
    "    print(\"ye to hogaa!!\")"
   ]
  }
 ],
 "metadata": {
  "kernelspec": {
   "display_name": "Python 3",
   "language": "python",
   "name": "python3"
  },
  "language_info": {
   "codemirror_mode": {
    "name": "ipython",
    "version": 3
   },
   "file_extension": ".py",
   "mimetype": "text/x-python",
   "name": "python",
   "nbconvert_exporter": "python",
   "pygments_lexer": "ipython3",
   "version": "3.7.6"
  }
 },
 "nbformat": 4,
 "nbformat_minor": 4
}
