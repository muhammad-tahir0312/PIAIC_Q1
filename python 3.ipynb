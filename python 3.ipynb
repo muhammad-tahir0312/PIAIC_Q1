{
 "cells": [
  {
   "cell_type": "code",
   "execution_count": 1,
   "metadata": {},
   "outputs": [],
   "source": [
    "dic = {\"name\":\"tahir\",\n",
    "      \"father\":\"nasrumminallah\",\n",
    "      \"address\":\"mehmodabad\"}"
   ]
  },
  {
   "cell_type": "code",
   "execution_count": null,
   "metadata": {},
   "outputs": [],
   "source": [
    "key = input(\"entr key\")\n",
    "val = input(\"enter value\")\n",
    "\n",
    "dic[key]=val"
   ]
  },
  {
   "cell_type": "code",
   "execution_count": null,
   "metadata": {},
   "outputs": [],
   "source": [
    "dic"
   ]
  },
  {
   "cell_type": "markdown",
   "metadata": {},
   "source": [
    "# car moving game"
   ]
  },
  {
   "cell_type": "code",
   "execution_count": null,
   "metadata": {},
   "outputs": [],
   "source": [
    "a = input(\"press enter to start game\")\n",
    "flag = False\n",
    "while True:\n",
    "    a = input(\"======: \")\n",
    "    if  a == \"start\":\n",
    "        if flag:\n",
    "            print(\"car is already started\")\n",
    "        else:\n",
    "            flag = True\n",
    "            print(\"the car has started. \")\n",
    "    elif a == \"stop\":\n",
    "        if not flag:\n",
    "            print(\"car is already stopped. \")\n",
    "        else:\n",
    "            flag = False\n",
    "            print(\"car has stopped. \")\n",
    "    elif a == \"quit\":\n",
    "        if flag:\n",
    "            print(\"please first stopped the car first. \")\n",
    "        else:\n",
    "            print(\"finish\")\n",
    "            break\n",
    "    elif a == \"finish\":\n",
    "        b = input(\"you mean to quit... Y or N: \")\n",
    "        if b == \"Y\" and not flag:\n",
    "            print(\"finish\")\n",
    "            break\n",
    "        elif b == \"Y\" and flag:\n",
    "            print(\"plz first stop the car. \")\n",
    "        elif b == \"N\":\n",
    "            print(\"please write 'start', 'stop' or 'quit' only\")\n",
    "    else:\n",
    "        print(\"ok boye\")"
   ]
  },
  {
   "cell_type": "markdown",
   "metadata": {},
   "source": [
    "# smart calculator "
   ]
  },
  {
   "cell_type": "code",
   "execution_count": null,
   "metadata": {},
   "outputs": [],
   "source": [
    "print(int(eval(input(\"your calculation: \"))))"
   ]
  },
  {
   "cell_type": "code",
   "execution_count": 2,
   "metadata": {},
   "outputs": [],
   "source": [
    "class Laptop():\n",
    "    def __init__(self, name, brand, battery):\n",
    "        self.name = name\n",
    "        self.brand = brand\n",
    "        self.battery = battery\n",
    "        \n",
    "    def ram(self):\n",
    "        print(\"each ram cost 50$\")\n",
    "        user = input(\"enter number of rams u want to insert: \")\n",
    "        if user == \"2gb\":\n",
    "            print(\"total = 50%\")\n",
    "        elif user == \"4gb\":\n",
    "            print(\"total = 100$\")\n",
    "        else:\n",
    "            print(f\"your {self.name} doesnt support more ram\")\n",
    "        try: \n",
    "            print(f\"your {self.name} has {user} of ram\")\n",
    "        finally:\n",
    "            (\"congrats\")"
   ]
  },
  {
   "cell_type": "code",
   "execution_count": 3,
   "metadata": {},
   "outputs": [],
   "source": [
    "new_laptop = Laptop(\"latitude\",\"dell\",\"3000mah\")"
   ]
  },
  {
   "cell_type": "code",
   "execution_count": 4,
   "metadata": {},
   "outputs": [
    {
     "name": "stdout",
     "output_type": "stream",
     "text": [
      "each ram cost 50$\n",
      "enter number of rams u want to insert: 4gb\n",
      "total = 100$\n",
      "your latitude has 4gb of ram\n"
     ]
    }
   ],
   "source": [
    "new_laptop.ram()"
   ]
  },
  {
   "cell_type": "markdown",
   "metadata": {},
   "source": [
    "# multiple inheritance"
   ]
  },
  {
   "cell_type": "code",
   "execution_count": 13,
   "metadata": {},
   "outputs": [],
   "source": [
    "class Dad():\n",
    "    def __init__(self):\n",
    "        self.voice = \"hard voice\"\n",
    "        self.eyeColor = \"black\"\n",
    "        self.WalkingStyle = \"straight\""
   ]
  },
  {
   "cell_type": "code",
   "execution_count": 6,
   "metadata": {},
   "outputs": [],
   "source": [
    "class Mom():\n",
    "    def __init__(self):\n",
    "        self.eyeColor = \"brown\"\n",
    "        self.hairColor = \"black\"\n",
    "        self.temper = \"short tempered\""
   ]
  },
  {
   "cell_type": "code",
   "execution_count": 14,
   "metadata": {},
   "outputs": [],
   "source": [
    "class Child(Dad,Mom):\n",
    "    pass"
   ]
  },
  {
   "cell_type": "code",
   "execution_count": 15,
   "metadata": {},
   "outputs": [],
   "source": [
    "child1 = Child()"
   ]
  },
  {
   "cell_type": "code",
   "execution_count": 11,
   "metadata": {},
   "outputs": [
    {
     "data": {
      "text/plain": [
       "'black'"
      ]
     },
     "execution_count": 11,
     "metadata": {},
     "output_type": "execute_result"
    }
   ],
   "source": [
    "child1.eyeColor"
   ]
  },
  {
   "cell_type": "code",
   "execution_count": 16,
   "metadata": {},
   "outputs": [
    {
     "data": {
      "text/plain": [
       "'hard voice'"
      ]
     },
     "execution_count": 16,
     "metadata": {},
     "output_type": "execute_result"
    }
   ],
   "source": [
    "child1.voice"
   ]
  },
  {
   "cell_type": "code",
   "execution_count": 17,
   "metadata": {},
   "outputs": [
    {
     "data": {
      "text/plain": [
       "'straight'"
      ]
     },
     "execution_count": 17,
     "metadata": {},
     "output_type": "execute_result"
    }
   ],
   "source": [
    "child1.WalkingStyle"
   ]
  },
  {
   "cell_type": "markdown",
   "metadata": {},
   "source": [
    "# single inheritance"
   ]
  },
  {
   "cell_type": "code",
   "execution_count": 19,
   "metadata": {},
   "outputs": [],
   "source": [
    "class Parent():\n",
    "    def __init__(self):\n",
    "        self.temper = \"angry man\"\n",
    "        self.height = \"short\"\n",
    "        self.color = \"black man\""
   ]
  },
  {
   "cell_type": "code",
   "execution_count": 20,
   "metadata": {},
   "outputs": [],
   "source": [
    "class Child(Parent):\n",
    "    pass"
   ]
  },
  {
   "cell_type": "code",
   "execution_count": 21,
   "metadata": {},
   "outputs": [],
   "source": [
    "female_child = Child()"
   ]
  },
  {
   "cell_type": "code",
   "execution_count": 30,
   "metadata": {},
   "outputs": [
    {
     "name": "stdout",
     "output_type": "stream",
     "text": [
      "he is black man , short and angry man\n"
     ]
    }
   ],
   "source": [
    "print(f\"he is {female_child.color} , {female_child.height} and {female_child.temper}\")"
   ]
  },
  {
   "cell_type": "code",
   "execution_count": 33,
   "metadata": {},
   "outputs": [
    {
     "data": {
      "text/plain": [
       "{1: 'one', 3: 'three', 2: 'two'}"
      ]
     },
     "execution_count": 33,
     "metadata": {},
     "output_type": "execute_result"
    }
   ],
   "source": [
    "dic1 = {1:\"one\" , 2:\"two\" , 3:\"three\"}\n",
    "\n",
    "{k:v for k,v in sorted (dic1.items(), key= lambda item:item[1])}"
   ]
  },
  {
   "cell_type": "markdown",
   "metadata": {},
   "source": [
    "# lambda function"
   ]
  },
  {
   "cell_type": "code",
   "execution_count": 51,
   "metadata": {},
   "outputs": [
    {
     "name": "stdout",
     "output_type": "stream",
     "text": [
      "1.25\n"
     ]
    }
   ],
   "source": [
    "x= lambda a,b : a / b\n",
    "print(x(5,4))"
   ]
  },
  {
   "cell_type": "code",
   "execution_count": 63,
   "metadata": {},
   "outputs": [
    {
     "name": "stdout",
     "output_type": "stream",
     "text": [
      "enter any numbeer: 4\n",
      "enter any num: 5\n",
      "hmmmm\n"
     ]
    }
   ],
   "source": [
    "user = int(input(\"enter any numbeer: \"))\n",
    "use = int(input(\"enter any num: \"))\n",
    "\n",
    "print(\"fok u\") if user == use else print(\"hmmmm\")"
   ]
  },
  {
   "cell_type": "code",
   "execution_count": null,
   "metadata": {},
   "outputs": [],
   "source": [
    "k = input(\"enter any key: \")\n",
    "v = input(\"enter any value: \")\n",
    "dic = {}\n",
    "\n",
    "for a in range(5):\n",
    "    print(\"noice\")\n",
    "    dic[k]=v"
   ]
  },
  {
   "cell_type": "code",
   "execution_count": 1,
   "metadata": {},
   "outputs": [
    {
     "name": "stdout",
     "output_type": "stream",
     "text": [
      "enter any key: name\n",
      "enter any value: amir\n",
      "enter any key: area\n",
      "enter any value: karachi\n",
      "enter any key: Q\n",
      "enter any value: Q\n",
      "noice\n"
     ]
    }
   ],
   "source": [
    "dic = {}\n",
    "flag = False\n",
    "for flag in range(100):\n",
    "    k = input(\"enter any key: \")\n",
    "    v = input(\"enter any value: \")\n",
    "    if k and v ==\"Q\":\n",
    "        flag=True\n",
    "        print(\"noice\")\n",
    "        dic[k]=v\n",
    "        break"
   ]
  },
  {
   "cell_type": "code",
   "execution_count": 2,
   "metadata": {},
   "outputs": [
    {
     "data": {
      "text/plain": [
       "{'Q': 'Q'}"
      ]
     },
     "execution_count": 2,
     "metadata": {},
     "output_type": "execute_result"
    }
   ],
   "source": [
    "dic"
   ]
  },
  {
   "cell_type": "markdown",
   "metadata": {},
   "source": [
    "# Certified Python Programming\n",
    "##Assignment 4"
   ]
  },
  {
   "cell_type": "code",
   "execution_count": 4,
   "metadata": {},
   "outputs": [],
   "source": [
    "adic = {\"first_name\":\"Tahir\",\"last_name\":\"khan\",\"age\":18,\"city\":\"karachi\"}"
   ]
  },
  {
   "cell_type": "code",
   "execution_count": 7,
   "metadata": {},
   "outputs": [
    {
     "name": "stdout",
     "output_type": "stream",
     "text": [
      "enter key and valueeducation college_pass\n"
     ]
    }
   ],
   "source": [
    "k,v = input(\"enter key and value\").split()\n",
    "\n",
    "adic[k]=v"
   ]
  },
  {
   "cell_type": "code",
   "execution_count": 8,
   "metadata": {},
   "outputs": [
    {
     "data": {
      "text/plain": [
       "{'first_name': 'Tahir',\n",
       " 'last_name': 'khan',\n",
       " 'age': 18,\n",
       " 'city': 'karachi',\n",
       " 'education': 'college_pass'}"
      ]
     },
     "execution_count": 8,
     "metadata": {},
     "output_type": "execute_result"
    }
   ],
   "source": [
    "adic"
   ]
  },
  {
   "cell_type": "code",
   "execution_count": 10,
   "metadata": {},
   "outputs": [],
   "source": [
    "adic[\"education\"]=\"intermediate\""
   ]
  },
  {
   "cell_type": "code",
   "execution_count": 11,
   "metadata": {},
   "outputs": [
    {
     "data": {
      "text/plain": [
       "{'first_name': 'Tahir',\n",
       " 'last_name': 'khan',\n",
       " 'age': 18,\n",
       " 'city': 'karachi',\n",
       " 'education': 'intermediate'}"
      ]
     },
     "execution_count": 11,
     "metadata": {},
     "output_type": "execute_result"
    }
   ],
   "source": [
    "adic"
   ]
  },
  {
   "cell_type": "code",
   "execution_count": 12,
   "metadata": {},
   "outputs": [],
   "source": [
    "del adic[\"education\"]"
   ]
  },
  {
   "cell_type": "code",
   "execution_count": 13,
   "metadata": {},
   "outputs": [
    {
     "data": {
      "text/plain": [
       "{'first_name': 'Tahir', 'last_name': 'khan', 'age': 18, 'city': 'karachi'}"
      ]
     },
     "execution_count": 13,
     "metadata": {},
     "output_type": "execute_result"
    }
   ],
   "source": [
    "adic"
   ]
  },
  {
   "cell_type": "code",
   "execution_count": 18,
   "metadata": {},
   "outputs": [],
   "source": [
    "############### NEW QUESTION #############\n",
    "cities = {1:\"karachi\",2:\"delhi\",3:\"kabul\"}"
   ]
  },
  {
   "cell_type": "code",
   "execution_count": 19,
   "metadata": {},
   "outputs": [],
   "source": [
    "info1 = {\"country\":\"Pakistan\", \"population\":\"18crore\", \"fact\":\"economy low asf\"}\n",
    "info2 = {\"country\":\"india\", \"population\":\"20crore\", \"fact\":\"popular in IT\"}\n",
    "info3 = {\"country\":\"afghanistan\", \"population\":\"10crore\", \"fact\":\"jang ka maidan\"}"
   ]
  },
  {
   "cell_type": "code",
   "execution_count": 20,
   "metadata": {},
   "outputs": [
    {
     "name": "stdout",
     "output_type": "stream",
     "text": [
      "karachi {'country': 'Pakistan', 'population': '18crore', 'fact': 'economy low asf'}\n",
      "delhi {'country': 'india', 'population': '20crore', 'fact': 'popular in IT'}\n",
      "kabul {'country': 'afghanistan', 'population': '10crore', 'fact': 'jang ka maidan'}\n"
     ]
    }
   ],
   "source": [
    "print(cities[1],info1)\n",
    "print(cities[2],info2)\n",
    "print(cities[3],info3)"
   ]
  },
  {
   "cell_type": "code",
   "execution_count": null,
   "metadata": {},
   "outputs": [],
   "source": [
    "################### NEW QUESTION ##################"
   ]
  },
  {
   "cell_type": "code",
   "execution_count": 24,
   "metadata": {},
   "outputs": [
    {
     "name": "stdout",
     "output_type": "stream",
     "text": [
      "enter your age12\n",
      "your ticket is $10\n"
     ]
    }
   ],
   "source": [
    "user = int(input(\"enter your age\"))\n",
    "\n",
    "if user <= 3:\n",
    "    print(\"your ticket is free\")\n",
    "elif user <= 12:\n",
    "    print(\"your ticket is $10\")\n",
    "elif user > 12:\n",
    "    print(\"your ticket is $15\")"
   ]
  },
  {
   "cell_type": "code",
   "execution_count": null,
   "metadata": {},
   "outputs": [],
   "source": [
    "################### NEW QUESTION ##################"
   ]
  },
  {
   "cell_type": "code",
   "execution_count": 32,
   "metadata": {},
   "outputs": [],
   "source": [
    "def favorite_book(title):\n",
    "    print(f\"One of my favorite books is {title} in Wonderland\")"
   ]
  },
  {
   "cell_type": "code",
   "execution_count": 34,
   "metadata": {},
   "outputs": [
    {
     "name": "stdout",
     "output_type": "stream",
     "text": [
      "One of my favorite books is Harry_Potter in Wonderland\n"
     ]
    }
   ],
   "source": [
    "favorite_book(\"Harry_Potter\")"
   ]
  },
  {
   "cell_type": "code",
   "execution_count": 36,
   "metadata": {},
   "outputs": [],
   "source": [
    "#parent class\n",
    "\n",
    "class Abbu():\n",
    "    def __init__(self,name,age,sir_name, education):\n",
    "        self.name = name\n",
    "        self.age = age\n",
    "        self.sir_name = sir_name\n",
    "        self.education = education\n",
    "        \n",
    "class Me(Abbu):\n",
    "    def __init__(self, name, age, sir_name, education, gender):\n",
    "        super().__init__(name,age,sir_name, education)\n",
    "        self.gender = gender\n",
    "        self.education = education"
   ]
  },
  {
   "cell_type": "code",
   "execution_count": 37,
   "metadata": {},
   "outputs": [
    {
     "name": "stdout",
     "output_type": "stream",
     "text": [
      "Nasrumminallah 52 Yousufzai masters\n"
     ]
    }
   ],
   "source": [
    "father = Abbu(\"Nasrumminallah\",52,\"Yousufzai\", \"masters\")\n",
    "print(father.name, father.age, father.sir_name, father.education)"
   ]
  },
  {
   "cell_type": "code",
   "execution_count": 39,
   "metadata": {},
   "outputs": [
    {
     "name": "stdout",
     "output_type": "stream",
     "text": [
      "Tahir 18 Yousufzai intermediate male\n"
     ]
    }
   ],
   "source": [
    "me = Me(\"Tahir\",18,\"Yousufzai\",\"intermediate\",\"male\")\n",
    "print(me.name, me.age, me.sir_name, me.education, me.gender)"
   ]
  },
  {
   "cell_type": "markdown",
   "metadata": {},
   "source": [
    "# Exception"
   ]
  },
  {
   "cell_type": "code",
   "execution_count": 4,
   "metadata": {},
   "outputs": [
    {
     "name": "stdout",
     "output_type": "stream",
     "text": [
      "enter number: \n",
      "nibba what iz??: invalid literal for int() with base 10: ''\n",
      "dis is me 'finally' running\n"
     ]
    }
   ],
   "source": [
    "try:\n",
    "    a = int(input(\"enter number: \"))\n",
    "    b = int(input(\"enter number: \"))\n",
    "    \n",
    "    c = a//b\n",
    "    print(c)\n",
    "\n",
    "except Exception as e:\n",
    "    print(\"nibba what iz??: \" + str(e))\n",
    "finally:\n",
    "    print(\"dis is me 'finally' running\")"
   ]
  },
  {
   "cell_type": "markdown",
   "metadata": {},
   "source": [
    "# raise exception as our own"
   ]
  },
  {
   "cell_type": "code",
   "execution_count": 2,
   "metadata": {},
   "outputs": [],
   "source": [
    "class bio():\n",
    "    def __init__(self, name, father_name, age):\n",
    "        if age >= 80 or age <= 18:\n",
    "            raise Exception (\"age is not defined well\")\n",
    "        self.name = name\n",
    "        self.father_name = father_name\n",
    "        self.age = age"
   ]
  },
  {
   "cell_type": "code",
   "execution_count": 17,
   "metadata": {},
   "outputs": [
    {
     "name": "stdout",
     "output_type": "stream",
     "text": [
      "enter ur age; 33\n"
     ]
    },
    {
     "data": {
      "text/plain": [
       "33"
      ]
     },
     "execution_count": 17,
     "metadata": {},
     "output_type": "execute_result"
    }
   ],
   "source": [
    "a = int(input(\"enter ur age; \"))\n",
    "me = bio(\"Saad\",\"Tahir\",a)\n",
    "me.age"
   ]
  },
  {
   "cell_type": "markdown",
   "metadata": {},
   "source": [
    "# catching exception as our own"
   ]
  },
  {
   "cell_type": "code",
   "execution_count": 4,
   "metadata": {},
   "outputs": [
    {
     "name": "stdout",
     "output_type": "stream",
     "text": [
      "enter ur age; 66\n",
      "66 Saad Tahir\n",
      "\n",
      "dis is finally blog runnig\n"
     ]
    }
   ],
   "source": [
    "try:\n",
    "    a = int(input(\"enter ur age; \"))\n",
    "    me = bio(\"Saad\",\"Tahir\",a)\n",
    "except Exception as e:\n",
    "    print(\"hurra \" + str(e))\n",
    "else:\n",
    "    print(me.age, me.name, me.father_name)\n",
    "finally:\n",
    "    print(\"\\ndis is finally blog runnig\")"
   ]
  },
  {
   "cell_type": "code",
   "execution_count": 3,
   "metadata": {},
   "outputs": [
    {
     "name": "stdout",
     "output_type": "stream",
     "text": [
      "enter ur nametahir\n",
      "ur name is good ;)\n"
     ]
    }
   ],
   "source": [
    "alist = [\"tahir\",\"qasim\",\"ahmed\"]\n",
    "yr = input(\"enter ur name\")\n",
    "\n",
    "if yr == alist:\n",
    "    print(\"try another name\")\n",
    "else:\n",
    "    alist.append(yr)\n",
    "    print(\"ur name is good ;)\")"
   ]
  },
  {
   "cell_type": "code",
   "execution_count": 5,
   "metadata": {},
   "outputs": [
    {
     "ename": "NameError",
     "evalue": "name 'count' is not defined",
     "output_type": "error",
     "traceback": [
      "\u001b[1;31m---------------------------------------------------------------------------\u001b[0m",
      "\u001b[1;31mNameError\u001b[0m                                 Traceback (most recent call last)",
      "\u001b[1;32m<ipython-input-5-5028a586f35f>\u001b[0m in \u001b[0;36m<module>\u001b[1;34m\u001b[0m\n\u001b[1;32m----> 1\u001b[1;33m \u001b[0mcount\u001b[0m\u001b[1;33m(\u001b[0m\u001b[0malist\u001b[0m\u001b[1;33m)\u001b[0m\u001b[1;33m\u001b[0m\u001b[1;33m\u001b[0m\u001b[0m\n\u001b[0m",
      "\u001b[1;31mNameError\u001b[0m: name 'count' is not defined"
     ]
    }
   ],
   "source": [
    "count(alist)"
   ]
  },
  {
   "cell_type": "code",
   "execution_count": null,
   "metadata": {},
   "outputs": [],
   "source": [
    "class Patient():\n",
    "    def __init__(self,last_name,first_name,age):\n",
    "        self.last_name = last_name\n",
    "        self.first_name = first_name\n",
    "        self.age = age\n",
    "        \n",
    "patient420 = Patient(\"khan\",\"tahir\",17)\n",
    "print(f\"the name of patient is {patient.first_name} , age_of_patient.last_name , age_of_patient.age)"
   ]
  },
  {
   "cell_type": "code",
   "execution_count": null,
   "metadata": {},
   "outputs": [],
   "source": []
  },
  {
   "cell_type": "code",
   "execution_count": null,
   "metadata": {},
   "outputs": [],
   "source": []
  },
  {
   "cell_type": "code",
   "execution_count": null,
   "metadata": {},
   "outputs": [],
   "source": []
  }
 ],
 "metadata": {
  "kernelspec": {
   "display_name": "Python 3",
   "language": "python",
   "name": "python3"
  },
  "language_info": {
   "codemirror_mode": {
    "name": "ipython",
    "version": 3
   },
   "file_extension": ".py",
   "mimetype": "text/x-python",
   "name": "python",
   "nbconvert_exporter": "python",
   "pygments_lexer": "ipython3",
   "version": "3.7.6"
  }
 },
 "nbformat": 4,
 "nbformat_minor": 4
}
