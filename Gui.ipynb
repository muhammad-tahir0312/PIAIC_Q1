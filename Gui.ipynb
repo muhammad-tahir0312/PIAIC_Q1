{
 "cells": [
  {
   "cell_type": "code",
   "execution_count": 17,
   "metadata": {},
   "outputs": [],
   "source": [
    "from tkinter import *\n",
    "\n",
    "root = Tk()\n",
    "label = Label(root, text = \"\" )\n",
    "\n",
    "\n",
    "              \n",
    "label.pack()\n",
    "root.mainloop()\n"
   ]
  },
  {
   "cell_type": "code",
   "execution_count": 21,
   "metadata": {},
   "outputs": [],
   "source": [
    "from tkinter import *\n",
    "\n",
    "khan = Tk()\n",
    "tahir = Label(text = \"jfhgeyfgwe\")\n",
    "tahir.pack()\n",
    "khan.mainloop()"
   ]
  },
  {
   "cell_type": "code",
   "execution_count": 1,
   "metadata": {},
   "outputs": [],
   "source": [
    "from tkinter import *\n",
    "\n",
    "root = Tk()\n",
    "label = Label(root, text = \"Tahir Khan Yousufzai\" )\n",
    "label.pack()\n",
    "\n",
    "topframe = Frame(root)\n",
    "topframe.pack()\n",
    "bottomframe = Frame(root)\n",
    "bottomframe.pack(side=BOTTOM)\n",
    "\n",
    "button1 = Button(topframe, text=\"button 1\")\n",
    "button2 = Button(topframe, text=\"button 2\")\n",
    "button3 = Button(topframe, text=\"button 3\")\n",
    "button4 = Button(bottomframe, text=\"me.me\")\n",
    "button5 = Button(bottomframe, text=\"me.me2\")\n",
    "\n",
    "button1.pack(side=LEFT)\n",
    "button2.pack(side=RIGHT)\n",
    "button3.pack(side=RIGHT)\n",
    "button4.pack(side=RIGHT)\n",
    "button5.pack(side=LEFT)\n",
    "              \n",
    "root.mainloop()\n"
   ]
  }
 ],
 "metadata": {
  "kernelspec": {
   "display_name": "Python 3",
   "language": "python",
   "name": "python3"
  },
  "language_info": {
   "codemirror_mode": {
    "name": "ipython",
    "version": 3
   },
   "file_extension": ".py",
   "mimetype": "text/x-python",
   "name": "python",
   "nbconvert_exporter": "python",
   "pygments_lexer": "ipython3",
   "version": "3.7.6"
  }
 },
 "nbformat": 4,
 "nbformat_minor": 4
}
